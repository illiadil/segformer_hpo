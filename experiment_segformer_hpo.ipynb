{
  "cells": [
    {
      "cell_type": "markdown",
      "metadata": {
        "id": "view-in-github",
        "colab_type": "text"
      },
      "source": [
        "<a href=\"https://colab.research.google.com/github/illiadil/segformer_hpo/blob/main/experiment_segformer_hpo.ipynb\" target=\"_parent\"><img src=\"https://colab.research.google.com/assets/colab-badge.svg\" alt=\"Open In Colab\"/></a>"
      ]
    },
    {
      "cell_type": "code",
      "execution_count": 1,
      "metadata": {
        "colab": {
          "base_uri": "https://localhost:8080/"
        },
        "id": "a60204b3",
        "outputId": "d8432ccc-7414-4a37-fda4-515f7dc89530"
      },
      "outputs": [
        {
          "output_type": "stream",
          "name": "stdout",
          "text": [
            "fatal: destination path 'segformer_hpo' already exists and is not an empty directory.\n"
          ]
        }
      ],
      "source": [
        "!git clone https://github.com/illiadil/segformer_hpo"
      ],
      "id": "a60204b3"
    },
    {
      "cell_type": "code",
      "execution_count": 2,
      "metadata": {
        "colab": {
          "base_uri": "https://localhost:8080/"
        },
        "id": "90c3814b",
        "outputId": "55c14645-f5b2-4671-8ce1-0defa6153e8f"
      },
      "outputs": [
        {
          "output_type": "stream",
          "name": "stdout",
          "text": [
            "/content/segformer_hpo\n"
          ]
        }
      ],
      "source": [
        "cd segformer_hpo"
      ],
      "id": "90c3814b"
    },
    {
      "cell_type": "code",
      "execution_count": 3,
      "metadata": {
        "id": "0ab1935e",
        "colab": {
          "base_uri": "https://localhost:8080/"
        },
        "outputId": "7156d517-fe97-4b8c-b8b0-b12204d83726"
      },
      "outputs": [
        {
          "output_type": "stream",
          "name": "stdout",
          "text": [
            "Drive already mounted at /content/drive/; to attempt to forcibly remount, call drive.mount(\"/content/drive/\", force_remount=True).\n"
          ]
        }
      ],
      "source": [
        "import tensorflow as tf\n",
        "import matplotlib.pyplot as plt\n",
        "import numpy as np\n",
        "from google.colab import drive\n",
        "drive.mount('/content/drive/')\n",
        "from sklearn.model_selection import train_test_split\n",
        "from skimage.io import imread, imshow\n",
        "from skimage.color import rgba2rgb\n",
        "from models import SegFormer_B0"
      ],
      "id": "0ab1935e"
    },
    {
      "cell_type": "code",
      "execution_count": 4,
      "metadata": {
        "id": "uxFvPxmO_i3O"
      },
      "outputs": [],
      "source": [
        "IMG_WIDTH = 640\n",
        "IMG_HEIGHT = 480\n",
        "IMG_CHANNELS = 3\n",
        "DATASET_SIZE = 200\n",
        "\n",
        "X = np.zeros((DATASET_SIZE, IMG_HEIGHT, IMG_WIDTH, IMG_CHANNELS), dtype=np.uint8)\n",
        "y = np.zeros((DATASET_SIZE, IMG_HEIGHT, IMG_WIDTH, 1), dtype=float)\n",
        "\n",
        "for i in range(1,DATASET_SIZE):\n",
        "  image = imread(\"/content/drive/MyDrive/PhD/label_tool/dataset/images/\"+str(i).zfill(5)+\".png\")[:,:,:3]\n",
        "  mask_ = imread(\"/content/drive/MyDrive/PhD/label_tool/dataset/masks/\"+str(i).zfill(5)+\"_mask.png\")\n",
        "  X[i] = image\n",
        "  mask = np.zeros((IMG_HEIGHT, IMG_WIDTH, 1), dtype=bool)\n",
        "  mask_ = np.expand_dims(mask_, axis=-1)\n",
        "  mask = np.maximum(mask, mask_[:,:,1])\n",
        "  y[i] = mask / 255"
      ],
      "id": "uxFvPxmO_i3O"
    },
    {
      "cell_type": "code",
      "execution_count": 5,
      "metadata": {
        "id": "M5eO5ROR_tL3"
      },
      "outputs": [],
      "source": [
        "X_train, X_test, y_train, y_test = train_test_split(X, y, test_size=0.33, random_state=42)\n",
        "X_test, X_val, y_test, y_val = train_test_split(X_test, y_test, test_size=0.5, random_state=42)"
      ],
      "id": "M5eO5ROR_tL3"
    },
    {
      "cell_type": "code",
      "source": [
        "lr_schedule_exponential = tf.keras.optimizers.schedules.ExponentialDecay(\n",
        "    initial_learning_rate=1e-2,\n",
        "    decay_steps=10000,\n",
        "    decay_rate=0.9)\n",
        "\n",
        "lr_schedule_polynomial = tf.keras.optimizers.schedules.PolynomialDecay(\n",
        "    initial_learning_rate=1e-2,\n",
        "    decay_steps=10000,\n",
        "    end_learning_rate=0.0001,\n",
        "    power=1.0,\n",
        "    cycle=False,\n",
        "    name=None,\n",
        ")"
      ],
      "metadata": {
        "id": "YAqEOYerzOCd"
      },
      "id": "YAqEOYerzOCd",
      "execution_count": 6,
      "outputs": []
    },
    {
      "cell_type": "code",
      "source": [
        "adam_exponential = tf.keras.optimizers.experimental.Adam()#lr_schedule_exponential)\n",
        "rmsprop_exponential = tf.keras.optimizers.experimental.RMSprop()#lr_schedule_exponential)\n",
        "sgd_exponential = tf.keras.optimizers.experimental.SGD()#lr_schedule_exponential)\n",
        "\n",
        "adam_polynomial = tf.keras.optimizers.experimental.Adam()#lr_schedule_polynomial)\n",
        "rmsprop_polynomial = tf.keras.optimizers.experimental.RMSprop()#lr_schedule_polynomial)\n",
        "sgd_polynomial = tf.keras.optimizers.experimental.SGD()#lr_schedule_polynomial)"
      ],
      "metadata": {
        "id": "chECtoHgzvjt"
      },
      "id": "chECtoHgzvjt",
      "execution_count": 7,
      "outputs": []
    },
    {
      "cell_type": "code",
      "source": [
        "def iou(y_true, y_pred):\n",
        "  threshold = 0.8\n",
        "  y_prediction = y_pred[:,:,1] > threshold\n",
        "  y_ground_truth = y_true[:,:,0] > 0.5\n",
        "  TP = (y_prediction == y_ground_truth)\n",
        "  FN_and_FP = (y_ground_truth != y_prediction)\n",
        "  TP_sum = float(tf.reduce_sum(tf.cast(TP, tf.float32)))\n",
        "  FN_and_FP_sum = float(tf.reduce_sum(tf.cast(FN_and_FP, tf.float32)))\n",
        "  return TP_sum/( TP_sum + FN_and_FP_sum)"
      ],
      "metadata": {
        "id": "BlqL5dz-swd3"
      },
      "id": "BlqL5dz-swd3",
      "execution_count": 8,
      "outputs": []
    },
    {
      "cell_type": "code",
      "execution_count": 9,
      "metadata": {
        "id": "yJ5Ew6iYyKtM"
      },
      "outputs": [],
      "source": [
        "def calculate_miou(mdl):\n",
        "  threshold = 0.8\n",
        "  total_iou = 0\n",
        "  y_predictions = mdl.predict(X_test)\n",
        "  for i in range(X_test.shape[0]):\n",
        "    y_ground_truth = y_test[i]\n",
        "    y_prediction = np.argmax(y_predictions[i], axis=-1)\n",
        "    TP = (y_prediction == y_ground_truth[:,:,0])\n",
        "    FN_and_FP = (y_ground_truth[:,:,0] != y_prediction)\n",
        "    iou = TP.sum()/( TP.sum() + FN_and_FP.sum() )\n",
        "    total_iou = total_iou + iou\n",
        "  average_iou = total_iou / X_test.shape[0]*100\n",
        "  return \"{:.2f}\".format(average_iou)"
      ],
      "id": "yJ5Ew6iYyKtM"
    },
    {
      "cell_type": "code",
      "execution_count": 10,
      "metadata": {
        "id": "90cb1e4c",
        "colab": {
          "base_uri": "https://localhost:8080/"
        },
        "outputId": "a1b61e24-403d-48f4-bb27-e0cb3ab36fdb"
      },
      "outputs": [
        {
          "output_type": "stream",
          "name": "stdout",
          "text": [
            "Epoch 1/15\n",
            "9/9 [==============================] - 44s 2s/step - loss: nan - accuracy: 0.6799 - val_loss: nan - val_accuracy: 0.8190 - lr: 0.0100\n",
            "Epoch 2/15\n",
            "9/9 [==============================] - 8s 896ms/step - loss: nan - accuracy: 0.7093 - val_loss: nan - val_accuracy: 0.8190 - lr: 0.0099\n",
            "Epoch 3/15\n",
            "9/9 [==============================] - 7s 827ms/step - loss: nan - accuracy: 0.7093 - val_loss: nan - val_accuracy: 0.8190 - lr: 0.0098\n",
            "Epoch 4/15\n",
            "9/9 [==============================] - 8s 905ms/step - loss: nan - accuracy: 0.7093 - val_loss: nan - val_accuracy: 0.8190 - lr: 0.0096\n",
            "Epoch 5/15\n",
            "9/9 [==============================] - 8s 909ms/step - loss: nan - accuracy: 0.7093 - val_loss: nan - val_accuracy: 0.8190 - lr: 0.0094\n",
            "Epoch 6/15\n",
            "9/9 [==============================] - 8s 908ms/step - loss: nan - accuracy: 0.7093 - val_loss: nan - val_accuracy: 0.8190 - lr: 0.0091\n",
            "Epoch 7/15\n",
            "9/9 [==============================] - 7s 837ms/step - loss: nan - accuracy: 0.7093 - val_loss: nan - val_accuracy: 0.8190 - lr: 0.0087\n",
            "Epoch 8/15\n",
            "9/9 [==============================] - 7s 837ms/step - loss: nan - accuracy: 0.7093 - val_loss: nan - val_accuracy: 0.8190 - lr: 0.0083\n",
            "Epoch 9/15\n",
            "9/9 [==============================] - 7s 835ms/step - loss: nan - accuracy: 0.7093 - val_loss: nan - val_accuracy: 0.8190 - lr: 0.0079\n",
            "Epoch 10/15\n",
            "9/9 [==============================] - 7s 831ms/step - loss: nan - accuracy: 0.7093 - val_loss: nan - val_accuracy: 0.8190 - lr: 0.0075\n",
            "Epoch 11/15\n",
            "9/9 [==============================] - 8s 902ms/step - loss: nan - accuracy: 0.7093 - val_loss: nan - val_accuracy: 0.8190 - lr: 0.0070\n",
            "Epoch 12/15\n",
            "9/9 [==============================] - 7s 824ms/step - loss: nan - accuracy: 0.7093 - val_loss: nan - val_accuracy: 0.8190 - lr: 0.0065\n",
            "Epoch 13/15\n",
            "9/9 [==============================] - 8s 914ms/step - loss: nan - accuracy: 0.7093 - val_loss: nan - val_accuracy: 0.8190 - lr: 0.0060\n",
            "Epoch 14/15\n",
            "9/9 [==============================] - 7s 823ms/step - loss: nan - accuracy: 0.7093 - val_loss: nan - val_accuracy: 0.8190 - lr: 0.0055\n",
            "Epoch 15/15\n",
            "9/9 [==============================] - 8s 906ms/step - loss: nan - accuracy: 0.7093 - val_loss: nan - val_accuracy: 0.8190 - lr: 0.0051\n",
            "2/2 [==============================] - 9s 56ms/step\n",
            "Linear : Adam -> mIoU : 73.52%\n",
            "Epoch 1/15\n",
            "9/9 [==============================] - 36s 2s/step - loss: 1.3920 - accuracy: 0.6243 - val_loss: 3.7674 - val_accuracy: 0.8190 - lr: 0.0100\n",
            "Epoch 2/15\n",
            "9/9 [==============================] - 8s 879ms/step - loss: 0.7745 - accuracy: 0.6804 - val_loss: 1.7569 - val_accuracy: 0.8190 - lr: 0.0099\n",
            "Epoch 3/15\n",
            "9/9 [==============================] - 9s 957ms/step - loss: 0.7221 - accuracy: 0.6961 - val_loss: 25.0434 - val_accuracy: 0.1810 - lr: 0.0098\n",
            "Epoch 4/15\n",
            "9/9 [==============================] - 9s 962ms/step - loss: 0.7618 - accuracy: 0.6734 - val_loss: 9.1457 - val_accuracy: 0.1810 - lr: 0.0096\n",
            "Epoch 5/15\n",
            "9/9 [==============================] - 8s 883ms/step - loss: 0.6505 - accuracy: 0.6987 - val_loss: 2.9241 - val_accuracy: 0.1810 - lr: 0.0094\n",
            "Epoch 6/15\n",
            "9/9 [==============================] - 8s 886ms/step - loss: 0.6678 - accuracy: 0.6955 - val_loss: 0.5665 - val_accuracy: 0.8190 - lr: 0.0091\n",
            "Epoch 7/15\n",
            "9/9 [==============================] - 8s 950ms/step - loss: 0.7043 - accuracy: 0.6915 - val_loss: 3.1398 - val_accuracy: 0.8190 - lr: 0.0087\n",
            "Epoch 8/15\n",
            "9/9 [==============================] - 8s 879ms/step - loss: 0.6573 - accuracy: 0.7003 - val_loss: 0.8349 - val_accuracy: 0.8190 - lr: 0.0083\n",
            "Epoch 9/15\n",
            "9/9 [==============================] - 8s 952ms/step - loss: 0.6882 - accuracy: 0.6992 - val_loss: 1.2053 - val_accuracy: 0.8190 - lr: 0.0079\n",
            "Epoch 10/15\n",
            "9/9 [==============================] - 8s 945ms/step - loss: 0.6463 - accuracy: 0.6977 - val_loss: 0.6865 - val_accuracy: 0.8190 - lr: 0.0075\n",
            "Epoch 11/15\n",
            "9/9 [==============================] - 8s 952ms/step - loss: 0.6413 - accuracy: 0.7029 - val_loss: 0.5050 - val_accuracy: 0.8187 - lr: 0.0070\n",
            "Epoch 12/15\n",
            "9/9 [==============================] - 8s 957ms/step - loss: 0.6141 - accuracy: 0.6971 - val_loss: 0.6556 - val_accuracy: 0.8190 - lr: 0.0065\n",
            "Epoch 13/15\n",
            "9/9 [==============================] - 8s 947ms/step - loss: 0.6266 - accuracy: 0.6941 - val_loss: 0.6905 - val_accuracy: 0.8190 - lr: 0.0060\n",
            "Epoch 14/15\n",
            "9/9 [==============================] - 8s 954ms/step - loss: 0.6084 - accuracy: 0.7022 - val_loss: 0.5144 - val_accuracy: 0.8252 - lr: 0.0055\n",
            "Epoch 15/15\n",
            "9/9 [==============================] - 8s 945ms/step - loss: 0.6198 - accuracy: 0.6977 - val_loss: 0.5365 - val_accuracy: 0.8190 - lr: 0.0051\n",
            "2/2 [==============================] - 5s 185ms/step\n",
            "Linear : RMSprop -> mIoU : 73.51%\n",
            "Epoch 1/15\n",
            "9/9 [==============================] - 29s 2s/step - loss: 0.6912 - accuracy: 0.6107 - val_loss: 0.5234 - val_accuracy: 0.8190 - lr: 0.0100\n",
            "Epoch 2/15\n",
            "9/9 [==============================] - 8s 878ms/step - loss: 0.5451 - accuracy: 0.7019 - val_loss: 0.4892 - val_accuracy: 0.8186 - lr: 0.0099\n",
            "Epoch 3/15\n",
            "9/9 [==============================] - 8s 874ms/step - loss: 0.5028 - accuracy: 0.7390 - val_loss: 0.5160 - val_accuracy: 0.8000 - lr: 0.0098\n",
            "Epoch 4/15\n",
            "9/9 [==============================] - 8s 886ms/step - loss: 0.4747 - accuracy: 0.7528 - val_loss: 0.5394 - val_accuracy: 0.7440 - lr: 0.0096\n",
            "Epoch 5/15\n",
            "9/9 [==============================] - 8s 954ms/step - loss: 0.4503 - accuracy: 0.7690 - val_loss: 0.4381 - val_accuracy: 0.8111 - lr: 0.0094\n",
            "Epoch 6/15\n",
            "9/9 [==============================] - 8s 945ms/step - loss: 0.4267 - accuracy: 0.8018 - val_loss: 0.5045 - val_accuracy: 0.7073 - lr: 0.0091\n",
            "Epoch 7/15\n",
            "9/9 [==============================] - 8s 950ms/step - loss: 0.4167 - accuracy: 0.8027 - val_loss: 0.3418 - val_accuracy: 0.8583 - lr: 0.0087\n",
            "Epoch 8/15\n",
            "9/9 [==============================] - 8s 940ms/step - loss: 0.4121 - accuracy: 0.7951 - val_loss: 0.3315 - val_accuracy: 0.8183 - lr: 0.0083\n",
            "Epoch 9/15\n",
            "9/9 [==============================] - 8s 875ms/step - loss: 0.3982 - accuracy: 0.8115 - val_loss: 0.4774 - val_accuracy: 0.7272 - lr: 0.0079\n",
            "Epoch 10/15\n",
            "9/9 [==============================] - 8s 945ms/step - loss: 0.3981 - accuracy: 0.8055 - val_loss: 0.4127 - val_accuracy: 0.7762 - lr: 0.0075\n",
            "Epoch 11/15\n",
            "9/9 [==============================] - 8s 872ms/step - loss: 0.3867 - accuracy: 0.8211 - val_loss: 0.3266 - val_accuracy: 0.8258 - lr: 0.0070\n",
            "Epoch 12/15\n",
            "9/9 [==============================] - 8s 957ms/step - loss: 0.3810 - accuracy: 0.8202 - val_loss: 0.3514 - val_accuracy: 0.8198 - lr: 0.0065\n",
            "Epoch 13/15\n",
            "9/9 [==============================] - 8s 874ms/step - loss: 0.3767 - accuracy: 0.8238 - val_loss: 0.5666 - val_accuracy: 0.8190 - lr: 0.0060\n",
            "Epoch 14/15\n",
            "9/9 [==============================] - 8s 950ms/step - loss: 0.3820 - accuracy: 0.8181 - val_loss: 0.2875 - val_accuracy: 0.8469 - lr: 0.0055\n",
            "Epoch 15/15\n",
            "9/9 [==============================] - 8s 879ms/step - loss: 0.3705 - accuracy: 0.8283 - val_loss: 0.5989 - val_accuracy: 0.8193 - lr: 0.0051\n",
            "2/2 [==============================] - 4s 185ms/step\n",
            "Linear : SGD -> mIoU : 73.89%\n",
            "Epoch 1/15\n",
            "9/9 [==============================] - 30s 2s/step - loss: 1.6475 - accuracy: 0.5711 - val_loss: 14.9296 - val_accuracy: 0.8190 - lr: 0.0051\n",
            "Epoch 2/15\n",
            "9/9 [==============================] - 8s 876ms/step - loss: 0.6872 - accuracy: 0.6805 - val_loss: 0.5707 - val_accuracy: 0.8190 - lr: 0.0051\n",
            "Epoch 3/15\n",
            "9/9 [==============================] - 8s 950ms/step - loss: 0.6153 - accuracy: 0.7039 - val_loss: 3.0488 - val_accuracy: 0.8190 - lr: 0.0052\n",
            "Epoch 4/15\n",
            "9/9 [==============================] - 8s 948ms/step - loss: 0.5805 - accuracy: 0.7058 - val_loss: 1.8426 - val_accuracy: 0.8190 - lr: 0.0053\n",
            "Epoch 5/15\n",
            "9/9 [==============================] - 8s 884ms/step - loss: 0.5641 - accuracy: 0.7097 - val_loss: 3.0691 - val_accuracy: 0.8190 - lr: 0.0054\n",
            "Epoch 6/15\n",
            "9/9 [==============================] - 8s 877ms/step - loss: 0.5361 - accuracy: 0.7123 - val_loss: 1.5412 - val_accuracy: 0.8190 - lr: 0.0056\n",
            "Epoch 7/15\n",
            "9/9 [==============================] - 8s 948ms/step - loss: 0.4786 - accuracy: 0.7555 - val_loss: 1.2527 - val_accuracy: 0.8190 - lr: 0.0058\n",
            "Epoch 8/15\n",
            "9/9 [==============================] - 8s 948ms/step - loss: 0.4704 - accuracy: 0.7517 - val_loss: 0.7372 - val_accuracy: 0.8172 - lr: 0.0061\n",
            "Epoch 9/15\n",
            "9/9 [==============================] - 8s 940ms/step - loss: 0.4554 - accuracy: 0.7663 - val_loss: 0.4154 - val_accuracy: 0.8190 - lr: 0.0065\n",
            "Epoch 10/15\n",
            "9/9 [==============================] - 8s 877ms/step - loss: 0.4539 - accuracy: 0.7662 - val_loss: 1.6422 - val_accuracy: 0.8173 - lr: 0.0068\n",
            "Epoch 11/15\n",
            "9/9 [==============================] - 8s 869ms/step - loss: 0.4690 - accuracy: 0.7572 - val_loss: 0.5517 - val_accuracy: 0.6527 - lr: 0.0073\n",
            "Epoch 12/15\n",
            "9/9 [==============================] - 8s 891ms/step - loss: 0.4484 - accuracy: 0.7766 - val_loss: 1.6352 - val_accuracy: 0.8185 - lr: 0.0079\n",
            "Epoch 13/15\n",
            "9/9 [==============================] - 8s 950ms/step - loss: 0.4496 - accuracy: 0.7617 - val_loss: 0.5237 - val_accuracy: 0.8107 - lr: 0.0085\n",
            "Epoch 14/15\n",
            "9/9 [==============================] - 8s 873ms/step - loss: 0.4448 - accuracy: 0.7692 - val_loss: 2.1047 - val_accuracy: 0.8190 - lr: 0.0093\n",
            "Epoch 15/15\n",
            "9/9 [==============================] - 8s 946ms/step - loss: 0.4460 - accuracy: 0.7781 - val_loss: 0.9878 - val_accuracy: 0.8190 - lr: 0.0102\n",
            "2/2 [==============================] - 4s 191ms/step\n",
            "Exponential : Adam -> mIoU : 73.52%\n",
            "Epoch 1/15\n",
            "9/9 [==============================] - 36s 2s/step - loss: nan - accuracy: 0.6972 - val_loss: nan - val_accuracy: 0.8190 - lr: 0.0051\n",
            "Epoch 2/15\n",
            "9/9 [==============================] - 7s 837ms/step - loss: nan - accuracy: 0.7093 - val_loss: nan - val_accuracy: 0.8190 - lr: 0.0051\n",
            "Epoch 3/15\n",
            "9/9 [==============================] - 7s 832ms/step - loss: nan - accuracy: 0.7093 - val_loss: nan - val_accuracy: 0.8190 - lr: 0.0052\n",
            "Epoch 4/15\n",
            "9/9 [==============================] - 8s 845ms/step - loss: nan - accuracy: 0.7093 - val_loss: nan - val_accuracy: 0.8190 - lr: 0.0053\n",
            "Epoch 5/15\n",
            "9/9 [==============================] - 8s 838ms/step - loss: nan - accuracy: 0.7093 - val_loss: nan - val_accuracy: 0.8190 - lr: 0.0054\n",
            "Epoch 6/15\n",
            "9/9 [==============================] - 8s 841ms/step - loss: nan - accuracy: 0.7093 - val_loss: nan - val_accuracy: 0.8190 - lr: 0.0056\n",
            "Epoch 7/15\n",
            "9/9 [==============================] - 8s 910ms/step - loss: nan - accuracy: 0.7093 - val_loss: nan - val_accuracy: 0.8190 - lr: 0.0058\n",
            "Epoch 8/15\n",
            "9/9 [==============================] - 7s 833ms/step - loss: nan - accuracy: 0.7093 - val_loss: nan - val_accuracy: 0.8190 - lr: 0.0061\n",
            "Epoch 9/15\n",
            "9/9 [==============================] - 8s 840ms/step - loss: nan - accuracy: 0.7093 - val_loss: nan - val_accuracy: 0.8190 - lr: 0.0065\n",
            "Epoch 10/15\n",
            "9/9 [==============================] - 8s 904ms/step - loss: nan - accuracy: 0.7093 - val_loss: nan - val_accuracy: 0.8190 - lr: 0.0068\n",
            "Epoch 11/15\n",
            "9/9 [==============================] - 7s 833ms/step - loss: nan - accuracy: 0.7093 - val_loss: nan - val_accuracy: 0.8190 - lr: 0.0073\n",
            "Epoch 12/15\n",
            "9/9 [==============================] - 7s 830ms/step - loss: nan - accuracy: 0.7093 - val_loss: nan - val_accuracy: 0.8190 - lr: 0.0079\n",
            "Epoch 13/15\n",
            "9/9 [==============================] - 8s 844ms/step - loss: nan - accuracy: 0.7093 - val_loss: nan - val_accuracy: 0.8190 - lr: 0.0085\n",
            "Epoch 14/15\n",
            "9/9 [==============================] - 8s 904ms/step - loss: nan - accuracy: 0.7093 - val_loss: nan - val_accuracy: 0.8190 - lr: 0.0093\n",
            "Epoch 15/15\n",
            "9/9 [==============================] - 8s 910ms/step - loss: nan - accuracy: 0.7093 - val_loss: nan - val_accuracy: 0.8190 - lr: 0.0102\n"
          ]
        },
        {
          "output_type": "stream",
          "name": "stderr",
          "text": [
            "WARNING:tensorflow:5 out of the last 9 calls to <function Model.make_predict_function.<locals>.predict_function at 0x7b25f0370940> triggered tf.function retracing. Tracing is expensive and the excessive number of tracings could be due to (1) creating @tf.function repeatedly in a loop, (2) passing tensors with different shapes, (3) passing Python objects instead of tensors. For (1), please define your @tf.function outside of the loop. For (2), @tf.function has reduce_retracing=True option that can avoid unnecessary retracing. For (3), please refer to https://www.tensorflow.org/guide/function#controlling_retracing and https://www.tensorflow.org/api_docs/python/tf/function for  more details.\n"
          ]
        },
        {
          "output_type": "stream",
          "name": "stdout",
          "text": [
            "2/2 [==============================] - 4s 168ms/step\n",
            "Exponential : RMSprop -> mIoU : 73.52%\n",
            "Epoch 1/15\n",
            "9/9 [==============================] - 31s 2s/step - loss: 0.7567 - accuracy: 0.5398 - val_loss: 0.6264 - val_accuracy: 0.8002 - lr: 0.0051\n",
            "Epoch 2/15\n",
            "9/9 [==============================] - 8s 942ms/step - loss: 0.6378 - accuracy: 0.6470 - val_loss: 0.6083 - val_accuracy: 0.8111 - lr: 0.0051\n",
            "Epoch 3/15\n",
            "9/9 [==============================] - 8s 884ms/step - loss: 0.5339 - accuracy: 0.7232 - val_loss: 0.8720 - val_accuracy: 0.1937 - lr: 0.0052\n",
            "Epoch 4/15\n",
            "9/9 [==============================] - 8s 956ms/step - loss: 0.5094 - accuracy: 0.7450 - val_loss: 0.4412 - val_accuracy: 0.8163 - lr: 0.0053\n",
            "Epoch 5/15\n",
            "9/9 [==============================] - 8s 880ms/step - loss: 0.4959 - accuracy: 0.7457 - val_loss: 0.6952 - val_accuracy: 0.4954 - lr: 0.0054\n",
            "Epoch 6/15\n",
            "9/9 [==============================] - 8s 953ms/step - loss: 0.4933 - accuracy: 0.7400 - val_loss: 0.4439 - val_accuracy: 0.8147 - lr: 0.0056\n",
            "Epoch 7/15\n",
            "9/9 [==============================] - 8s 943ms/step - loss: 0.4778 - accuracy: 0.7544 - val_loss: 0.5826 - val_accuracy: 0.6547 - lr: 0.0058\n",
            "Epoch 8/15\n",
            "9/9 [==============================] - 8s 946ms/step - loss: 0.4809 - accuracy: 0.7457 - val_loss: 0.3923 - val_accuracy: 0.8141 - lr: 0.0061\n",
            "Epoch 9/15\n",
            "9/9 [==============================] - 8s 951ms/step - loss: 0.4622 - accuracy: 0.7716 - val_loss: 0.5052 - val_accuracy: 0.7025 - lr: 0.0065\n",
            "Epoch 10/15\n",
            "9/9 [==============================] - 8s 940ms/step - loss: 0.4483 - accuracy: 0.7750 - val_loss: 0.3976 - val_accuracy: 0.7900 - lr: 0.0068\n",
            "Epoch 11/15\n",
            "9/9 [==============================] - 8s 945ms/step - loss: 0.4311 - accuracy: 0.7885 - val_loss: 0.3386 - val_accuracy: 0.8370 - lr: 0.0073\n",
            "Epoch 12/15\n",
            "9/9 [==============================] - 8s 947ms/step - loss: 0.4335 - accuracy: 0.7860 - val_loss: 0.4472 - val_accuracy: 0.8188 - lr: 0.0079\n",
            "Epoch 13/15\n",
            "9/9 [==============================] - 8s 875ms/step - loss: 0.4400 - accuracy: 0.7828 - val_loss: 0.4143 - val_accuracy: 0.8034 - lr: 0.0085\n",
            "Epoch 14/15\n",
            "9/9 [==============================] - 8s 894ms/step - loss: 0.4184 - accuracy: 0.7931 - val_loss: 0.4780 - val_accuracy: 0.8190 - lr: 0.0093\n",
            "Epoch 15/15\n",
            "9/9 [==============================] - 8s 874ms/step - loss: 0.4104 - accuracy: 0.7948 - val_loss: 0.3113 - val_accuracy: 0.8246 - lr: 0.0102\n"
          ]
        },
        {
          "output_type": "stream",
          "name": "stderr",
          "text": [
            "WARNING:tensorflow:6 out of the last 11 calls to <function Model.make_predict_function.<locals>.predict_function at 0x7b25f89e8e50> triggered tf.function retracing. Tracing is expensive and the excessive number of tracings could be due to (1) creating @tf.function repeatedly in a loop, (2) passing tensors with different shapes, (3) passing Python objects instead of tensors. For (1), please define your @tf.function outside of the loop. For (2), @tf.function has reduce_retracing=True option that can avoid unnecessary retracing. For (3), please refer to https://www.tensorflow.org/guide/function#controlling_retracing and https://www.tensorflow.org/api_docs/python/tf/function for  more details.\n"
          ]
        },
        {
          "output_type": "stream",
          "name": "stdout",
          "text": [
            "2/2 [==============================] - 4s 196ms/step\n",
            "Exponential : SGD -> mIoU : 74.25%\n"
          ]
        }
      ],
      "source": [
        "from keras.optimizers.legacy import Adam, SGD, RMSprop\n",
        "from keras.callbacks import LearningRateScheduler\n",
        "import math\n",
        "\n",
        "# Define initial learning rate\n",
        "initial_learning_rate = 0.01\n",
        "# Define decay steps\n",
        "decay_steps = 15\n",
        "# Define decay rate\n",
        "decay_rate = 0.1\n",
        "\n",
        "# Define learning rate decay function\n",
        "def lr_time_based_decay_linear(epoch, lr):\n",
        "    return lr * 1 / (1 + decay_rate * epoch / decay_steps)\n",
        "def lr_time_based_decay_exponential(epoch, lr):\n",
        "    return lr * math.exp( decay_rate * epoch / decay_steps)\n",
        "decays = [lr_time_based_decay_linear,lr_time_based_decay_exponential]\n",
        "decays_name = [\"Linear\",\"Exponential\"]\n",
        "\n",
        "# Initialize Adam optimizer with learning rate decay\n",
        "adam_optimizer = Adam(learning_rate=initial_learning_rate)\n",
        "sgd_optimizer = SGD(learning_rate=initial_learning_rate)\n",
        "rmsprop_optimizer = RMSprop(learning_rate=initial_learning_rate)\n",
        "\n",
        "optimizers = [adam_optimizer,rmsprop_optimizer,sgd_optimizer]\n",
        "optimizers_name = [\"Adam\",\"RMSprop\",\"SGD\"]\n",
        "miou_values = []\n",
        "\n",
        "for j in range(0,2):\n",
        "  for i in range(3):\n",
        "    model = SegFormer_B0(input_shape = (480, 640, 3), num_classes = 2)\n",
        "    model.compile(optimizer=optimizers[i], loss='sparse_categorical_crossentropy', metrics=['accuracy'])\n",
        "    model.fit(X_train, y_train, validation_data=(X_val,y_val),batch_size=16, epochs=15, callbacks=[LearningRateScheduler(decays[j], verbose=0)])\n",
        "    model.save_weights(\"segformer_b0_\"+optimizers_name[i]+\"_\"+decays_name[j]+\".weights.h5\")\n",
        "    miou = calculate_miou(model)\n",
        "    miou_values.append(miou)\n",
        "    print(decays_name[j]+\" : \" +optimizers_name[i]+ \" -> mIoU : \" + miou + \"%\")"
      ],
      "id": "90cb1e4c"
    },
    {
      "cell_type": "code",
      "execution_count": null,
      "metadata": {
        "id": "bca2b873"
      },
      "outputs": [],
      "source": [
        "loss = model.history.history['loss']\n",
        "val_loss = model.history.history['val_loss']\n",
        "\n",
        "plt.figure()\n",
        "plt.plot( loss, 'r', label='Training loss')\n",
        "plt.plot( val_loss, 'bo', label='Validation loss')\n",
        "plt.title('Training and Validation Loss')\n",
        "plt.xlabel('Epoch')\n",
        "plt.ylabel('Loss Value')\n",
        "plt.ylim([0, 1])\n",
        "plt.legend()\n",
        "plt.show()"
      ],
      "id": "bca2b873"
    },
    {
      "cell_type": "code",
      "execution_count": null,
      "metadata": {
        "id": "na-9Raz_O_Kr"
      },
      "outputs": [],
      "source": [
        "import random\n",
        "\n",
        "indx = random.randint(0, X_test.shape[0])\n",
        "f, axarr = plt.subplots(1,3)\n",
        "axarr[0].imshow(y_predictions[indx][:,:,1] > threshold)\n",
        "axarr[1].imshow(y_test[indx])\n",
        "axarr[2].imshow(X_test[indx])"
      ],
      "id": "na-9Raz_O_Kr"
    }
  ],
  "metadata": {
    "accelerator": "GPU",
    "colab": {
      "provenance": [],
      "gpuType": "T4",
      "include_colab_link": true
    },
    "kernelspec": {
      "display_name": "Python 3",
      "name": "python3"
    },
    "language_info": {
      "codemirror_mode": {
        "name": "ipython",
        "version": 3
      },
      "file_extension": ".py",
      "mimetype": "text/x-python",
      "name": "python",
      "nbconvert_exporter": "python",
      "pygments_lexer": "ipython3",
      "version": "3.7.12"
    },
    "papermill": {
      "default_parameters": {},
      "duration": 2817.423902,
      "end_time": "2023-04-26T15:15:08.335822",
      "environment_variables": {},
      "exception": null,
      "input_path": "__notebook__.ipynb",
      "output_path": "__notebook__.ipynb",
      "parameters": {},
      "start_time": "2023-04-26T14:28:10.911920",
      "version": "2.4.0"
    }
  },
  "nbformat": 4,
  "nbformat_minor": 5
}